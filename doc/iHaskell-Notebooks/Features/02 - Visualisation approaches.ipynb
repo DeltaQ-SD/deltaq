{
 "cells": [
  {
   "cell_type": "code",
   "execution_count": 1,
   "id": "b591c508-a9ba-43fc-9d53-ec7d1e048fdc",
   "metadata": {
    "jupyter": {
     "source_hidden": true
    }
   },
   "outputs": [],
   "source": [
    "--\n",
    "-- ∆Q using Rational\n",
    "--\n",
    "import DeltaQ\n",
    "--\n",
    "-- additional libraries (plotting) - likely to move\n",
    ":l ../../additional-tools/PlottingSupport\n",
    "\n",
    "-- useful for rendering Rationals with 'just enough' precision\n",
    "asFloat :: Rational -> Float\n",
    "asFloat = fromRational"
   ]
  },
  {
   "cell_type": "markdown",
   "id": "e7abd784-2b42-4791-a97c-40b22439d538",
   "metadata": {},
   "source": [
    " -- walk through all the plotting options\n",
    " "
   ]
  }
 ],
 "metadata": {
  "kernelspec": {
   "display_name": "Haskell",
   "language": "haskell",
   "name": "haskell"
  },
  "language_info": {
   "name": ""
  }
 },
 "nbformat": 4,
 "nbformat_minor": 5
}
