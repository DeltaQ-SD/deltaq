{
 "cells": [
  {
   "cell_type": "code",
   "execution_count": 4,
   "id": "d4847d87-a06d-44b5-81e5-77b7748ce367",
   "metadata": {
    "editable": true,
    "jupyter": {
     "source_hidden": true
    },
    "slideshow": {
     "slide_type": ""
    },
    "tags": []
   },
   "outputs": [],
   "source": [
    "--\n",
    "-- ∆Q using Rational\n",
    "--\n",
    "import DeltaQ\n",
    "--\n",
    "-- additional libraries (plotting) - likely to move\n",
    ":l ../../additional-tools/PlottingSupport\n",
    "\n",
    "-- useful for rendering Rationals with 'just enough' precision\n",
    "asFloat :: Rational -> Float\n",
    "asFloat = fromRational"
   ]
  },
  {
   "cell_type": "markdown",
   "id": "c4f9da2b-391a-483c-b7c2-69bc73d5603a",
   "metadata": {},
   "source": [
    " timeouts with 'success' and 'failure' continuations\n",
    " -- modelling recovery\n",
    " (early) timeouts with 'residuals'\n",
    " -- modelling large scale excursions from the normal response\n"
   ]
  },
  {
   "cell_type": "code",
   "execution_count": null,
   "id": "b3d06b47-7c9e-4208-97c9-30e8a9438580",
   "metadata": {},
   "outputs": [],
   "source": [
    "branchOnTimeout :: DeltaQ o => Duration o -> o -> (o,o) -> o\n",
    "branchOnTimeout t before (ok,timedout) \n",
    " = "
   ]
  },
  {
   "cell_type": "code",
   "execution_count": null,
   "id": "da03eb80-dfb5-4288-a323-591e2ed9c450",
   "metadata": {},
   "outputs": [],
   "source": []
  }
 ],
 "metadata": {
  "kernelspec": {
   "display_name": "Haskell",
   "language": "haskell",
   "name": "haskell"
  },
  "language_info": {
   "codemirror_mode": "ihaskell",
   "file_extension": ".hs",
   "mimetype": "text/x-haskell",
   "name": "haskell",
   "pygments_lexer": "Haskell",
   "version": "9.6.5"
  }
 },
 "nbformat": 4,
 "nbformat_minor": 5
}
