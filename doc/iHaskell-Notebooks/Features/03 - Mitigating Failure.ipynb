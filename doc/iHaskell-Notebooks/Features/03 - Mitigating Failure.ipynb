{
 "cells": [
  {
   "cell_type": "code",
   "execution_count": null,
   "id": "d4847d87-a06d-44b5-81e5-77b7748ce367",
   "metadata": {
    "jupyter": {
     "source_hidden": true
    }
   },
   "outputs": [],
   "source": [
    "--\n",
    "-- ∆Q using Rational\n",
    "--\n",
    "import DeltaQ\n",
    "--\n",
    "-- additional libraries (plotting) - likely to move\n",
    ":l ../../additional-tools/PlottingSupport\n",
    "\n",
    "-- useful for rendering Rationals with 'just enough' precision\n",
    "asFloat :: Rational -> Float\n",
    "asFloat = fromRational"
   ]
  },
  {
   "cell_type": "markdown",
   "id": "c4f9da2b-391a-483c-b7c2-69bc73d5603a",
   "metadata": {},
   "source": [
    " timeouts with 'success' and 'failure' continuations\n",
    " -- modelling recovery\n",
    " (early) timeouts with 'residuals'\n",
    " -- modelling large scale excursions from the normal response\n"
   ]
  }
 ],
 "metadata": {
  "kernelspec": {
   "display_name": "Haskell",
   "language": "haskell",
   "name": "haskell"
  },
  "language_info": {
   "codemirror_mode": "ihaskell",
   "file_extension": ".hs",
   "mimetype": "text/x-haskell",
   "name": "haskell",
   "pygments_lexer": "Haskell",
   "version": "9.6.5"
  }
 },
 "nbformat": 4,
 "nbformat_minor": 5
}
