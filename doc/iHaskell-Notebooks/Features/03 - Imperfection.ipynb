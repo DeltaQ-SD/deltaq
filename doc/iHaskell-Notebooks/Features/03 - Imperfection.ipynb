{
 "cells": [
  {
   "cell_type": "code",
   "execution_count": 1,
   "id": "499af9c2-be34-4531-9aaa-6d92e3e84964",
   "metadata": {
    "editable": true,
    "jupyter": {
     "source_hidden": true
    },
    "slideshow": {
     "slide_type": ""
    },
    "tags": []
   },
   "outputs": [],
   "source": [
    "--\n",
    "-- ∆Q using Rational\n",
    "--\n",
    "import DeltaQ\n",
    "\n",
    "-- needed for visualisation within iHaskell\n",
    "import Graphics.Rendering.Chart.Renderable\n",
    "\n",
    "-- useful for rendering Rationals with 'just enough' precision\n",
    "asFloat :: Rational -> Float\n",
    "asFloat = fromRational"
   ]
  },
  {
   "cell_type": "markdown",
   "id": "94fc0315-0123-47aa-9f5d-f522b6c55bf3",
   "metadata": {},
   "source": [
    "# Capturing non-completion\n",
    "\n",
    "## Observables and Outcomes\n",
    "Outcome durations are the measurement of time from a _starting observable_ to a _terminating observable_, \n",
    "while admitting that the terminating observable may not occur, in both cases the observables could\n",
    "elements from some non-empty set.\n",
    "\n",
    "_Observables_ have, at least conceptually, both a location and a 'name'. \n",
    "In running code a concrete instantiation of an observable might be a trace point in the code,\n",
    "in a reasonable tracing system the location, the name and even important values at the point\n",
    "in the code would be visible.\n",
    "\n",
    "Adding the notion of timing to observables can be done, again conceptually, in two ways:\n",
    "  1) Having some conceptual stopwatch that commences with the starting observable and ends\n",
    "     with the terminating observable. The operation of the stopwatch being instantaneous.\n",
    "  2) Associating a timestamp with the observables and taking their difference. This is subject to \n",
    "     concerns around measurement in different clock domains (clock skew, drift etc.).\n",
    "\n",
    "In both cases detection of non-completion is needed. \n",
    "In some cases failure might be explicit (and as such a suitable 'failed' observable\n",
    "present in the terminating obserable set), but that is not the general case.\n",
    "\n",
    "This brings up the general point about outcomes, that they have a finite period of usefullness.\n",
    "It may be long (before the heat death of the universe) or much shorter - but they are finite.\n",
    "Processing timestamped observables requires some upper bound to declare the outcome `Abandoned`, \n",
    "the same applies in the conceptual stopwatch case. \n",
    "\n",
    "We will develop this concept later as _Quantitive Timeliness Agreements_.\n"
   ]
  },
  {
   "cell_type": "markdown",
   "id": "273c2f3e-e2ab-4f97-8f99-a077ac9316b6",
   "metadata": {},
   "source": [
    "##  Mitigation and propagation\n",
    "\n",
    "- representing `Abandonment`\n",
    "- representing non-completion as a probablistic choice - qualifying and quantifying uncertainty\n",
    "- how abandonment propagates through operators, how the operators correspond with intution and real-world\n",
    "- the role of a 'top level' outcome and how sub-outcomes can decide to propagate or mitigate their abandonment"
   ]
  },
  {
   "cell_type": "code",
   "execution_count": null,
   "id": "4cdc0e6a-d068-459a-a53d-21869eb3cbd3",
   "metadata": {},
   "outputs": [],
   "source": []
  }
 ],
 "metadata": {
  "kernelspec": {
   "display_name": "Haskell",
   "language": "haskell",
   "name": "haskell"
  },
  "language_info": {
   "codemirror_mode": "ihaskell",
   "file_extension": ".hs",
   "mimetype": "text/x-haskell",
   "name": "haskell",
   "pygments_lexer": "Haskell",
   "version": "9.6.5"
  }
 },
 "nbformat": 4,
 "nbformat_minor": 5
}
